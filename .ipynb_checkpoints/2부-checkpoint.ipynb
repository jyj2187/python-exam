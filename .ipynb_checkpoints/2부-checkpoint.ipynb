{
 "cells": [
  {
   "cell_type": "markdown",
   "id": "great-publication",
   "metadata": {},
   "source": [
    "# 새롭게 알게 되는 부분은 주석 붙이면서 설명해보기"
   ]
  },
  {
   "cell_type": "code",
   "execution_count": 87,
   "id": "congressional-filename",
   "metadata": {},
   "outputs": [
    {
     "name": "stdout",
     "output_type": "stream",
     "text": [
      "1.0\n",
      "7.0\n",
      "(2+3j)\n"
     ]
    }
   ],
   "source": [
    "#복소수형 자료\n",
    "c1 = 1+7j\n",
    "print(c1.real); print(c1.imag)\n",
    "c2 = complex(2,3)\n",
    "print(c2)"
   ]
  },
  {
   "cell_type": "markdown",
   "id": "dangerous-lindsay",
   "metadata": {},
   "source": [
    "#거듭제곱 연산자 **\n",
    "#논리 연산자 \n",
    "-and\n",
    "-or\n",
    "-not"
   ]
  },
  {
   "cell_type": "code",
   "execution_count": 88,
   "id": "built-prototype",
   "metadata": {},
   "outputs": [
    {
     "name": "stdout",
     "output_type": "stream",
     "text": [
      "0x60\n",
      "0x63\n",
      "0x3\n",
      "0x30\n",
      "0x184\n"
     ]
    }
   ],
   "source": [
    "#비트 연산자 이해하기\n",
    "bit1 = 0x61\n",
    "bit2 = 0x62\n",
    "print(hex(bit1 & bit2)) #AND\n",
    "print(hex(bit1 | bit2)) #OR\n",
    "print(hex(bit1 ^ bit2)) #NOT\n",
    "print(hex(bit1 >>1)) #비트 오른쪽으로 시프트, 0110 0001 -> 0011 0001\n",
    "print(hex(bit1 <<2)) #비트 왼쪽으로 시프트, 0110 0001 -> 0001 1000 0100"
   ]
  },
  {
   "cell_type": "code",
   "execution_count": null,
   "id": "solar-convenience",
   "metadata": {},
   "outputs": [],
   "source": [
    "#시쿼스 자료형\n",
    "#시퀀스 자료형은 어떤 객체가 순서를 가지고 나열되어 있는 것.\n",
    "strdata = 'abcde' #문자열은 시퀀스 자료형\n",
    "listdata = [1,[2,3],'안녕'] #리스트는 시퀀스 자료형\n",
    "tupledata = (100,200,300) #튜플은 시퀀스 자료형\n",
    "\n",
    "\"\"\"\n",
    "시퀀스 자료형의 특성\n",
    "- 인덱싱\n",
    "- 슬라이싱\n",
    "- 연결\n",
    "- 반복\n",
    "- 멤버체크\n",
    "- 크기정보\n",
    "\"\"\"\n"
   ]
  },
  {
   "cell_type": "code",
   "execution_count": 89,
   "id": "large-letter",
   "metadata": {},
   "outputs": [
    {
     "name": "stdout",
     "output_type": "stream",
     "text": [
      "i\n",
      "!\n",
      "1\n",
      "[1, 2, 3]\n",
      "3\n"
     ]
    }
   ],
   "source": [
    "#인덱싱\n",
    "#첫 문자를 기준으로 0부터 시작\n",
    "#음수는 끝에서부터 센다, -1 부터 시작\n",
    "strdata = 'Time is money!!'\n",
    "listdata = [1,2,[1,2,3]]\n",
    "print(strdata[5])\n",
    "print(strdata[-2])\n",
    "print(listdata[0])\n",
    "print(listdata[-1])\n",
    "print(listdata[2][-1])"
   ]
  },
  {
   "cell_type": "code",
   "execution_count": 90,
   "id": "convenient-beginning",
   "metadata": {},
   "outputs": [
    {
     "name": "stdout",
     "output_type": "stream",
     "text": [
      "ime \n",
      "Time is\n",
      "oney!!\n",
      "Time is mone\n",
      "y!!\n",
      "Time is money!!\n",
      "Tm smny!\n"
     ]
    }
   ],
   "source": [
    "#슬라이싱\n",
    "#[시작:끝:스텝]\n",
    "strdata = 'Time is money!!'\n",
    "print(strdata[1:5])\n",
    "print(strdata[:7])\n",
    "print(strdata[9:])\n",
    "print(strdata[:-3])\n",
    "print(strdata[-3:])\n",
    "print(strdata[:])\n",
    "print(strdata[::2]) #두글자마다 출력"
   ]
  },
  {
   "cell_type": "code",
   "execution_count": 92,
   "id": "documented-mentor",
   "metadata": {},
   "outputs": [
    {
     "name": "stdout",
     "output_type": "stream",
     "text": [
      "I love Python\n",
      "I love you\n",
      "[1, 2, 3, 4, 5, 6]\n"
     ]
    }
   ],
   "source": [
    "#시퀀스 자료 연결\n",
    "strdata1 = 'I love '; strdata2 = 'Python' ; strdata3 = 'you'\n",
    "listdata1 = [1,2,3] ; listdata2 = [4,5,6]\n",
    "print(strdata1+strdata2)\n",
    "print(strdata1+strdata3)\n",
    "print(listdata1+listdata2)"
   ]
  },
  {
   "cell_type": "code",
   "execution_count": 94,
   "id": "supposed-bernard",
   "metadata": {},
   "outputs": [
    {
     "name": "stdout",
     "output_type": "stream",
     "text": [
      "빅뱅이 부르는 뱅~뱅~뱅~\n"
     ]
    }
   ],
   "source": [
    "#시퀀스 자료 반복\n",
    "artist = '빅뱅'\n",
    "song = '뱅~'\n",
    "dispdata = artist + '이 부르는 ' + song*3\n",
    "print(dispdata)"
   ]
  },
  {
   "cell_type": "code",
   "execution_count": null,
   "id": "controversial-application",
   "metadata": {},
   "outputs": [],
   "source": []
  },
  {
   "cell_type": "code",
   "execution_count": null,
   "id": "general-surname",
   "metadata": {},
   "outputs": [],
   "source": []
  },
  {
   "cell_type": "code",
   "execution_count": null,
   "id": "attempted-burton",
   "metadata": {},
   "outputs": [],
   "source": []
  }
 ],
 "metadata": {
  "kernelspec": {
   "display_name": "Python 3",
   "language": "python",
   "name": "python3"
  },
  "language_info": {
   "codemirror_mode": {
    "name": "ipython",
    "version": 3
   },
   "file_extension": ".py",
   "mimetype": "text/x-python",
   "name": "python",
   "nbconvert_exporter": "python",
   "pygments_lexer": "ipython3",
   "version": "3.8.8"
  }
 },
 "nbformat": 4,
 "nbformat_minor": 5
}
